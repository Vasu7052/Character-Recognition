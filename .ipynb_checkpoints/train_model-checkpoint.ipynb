{
 "cells": [
  {
   "cell_type": "code",
   "execution_count": 1,
   "metadata": {
    "colab": {
     "base_uri": "https://localhost:8080/",
     "height": 34
    },
    "colab_type": "code",
    "id": "bNDSFF1iRom0",
    "outputId": "a3c85b2d-7fc3-417d-8e1a-443e6b82536d"
   },
   "outputs": [
    {
     "name": "stderr",
     "output_type": "stream",
     "text": [
      "Using TensorFlow backend.\n"
     ]
    }
   ],
   "source": [
    "# Some Standard Libraries\n",
    "import pandas as pd\n",
    "from PIL import Image\n",
    "import numpy as np\n",
    "from numpy import genfromtxt\n",
    "import matplotlib.pyplot as plt\n",
    "import json\n",
    "\n",
    "# All required Keras Modules\n",
    "import keras\n",
    "from keras.models import Sequential\n",
    "from keras.layers import Input, Dense, Dropout, Flatten\n",
    "from keras.layers import Conv2D, MaxPooling2D\n",
    "from keras import backend as K\n",
    "from keras.utils.np_utils import to_categorical\n",
    "from keras.models import load_model"
   ]
  },
  {
   "cell_type": "code",
   "execution_count": 2,
   "metadata": {
    "colab": {},
    "colab_type": "code",
    "id": "8KUCnbVtRv3f"
   },
   "outputs": [],
   "source": [
    "# Setting a fixed base path\n",
    "base_path = './Dataset/'"
   ]
  },
  {
   "cell_type": "code",
   "execution_count": 3,
   "metadata": {
    "colab": {
     "base_uri": "https://localhost:8080/",
     "height": 34
    },
    "colab_type": "code",
    "id": "5e0fMEO1Rv5s",
    "outputId": "8cf15e67-5701-4895-89be-11fd4d0cbab0"
   },
   "outputs": [
    {
     "data": {
      "text/plain": [
       "((78200, 1024), (78200, 1))"
      ]
     },
     "execution_count": 3,
     "metadata": {},
     "output_type": "execute_result"
    }
   ],
   "source": [
    "# Sperating input and output training data from train.csv file\n",
    "training_data = genfromtxt(base_path+'train.csv', delimiter=',')\n",
    "x_train = training_data[:,:-1]\n",
    "y_train = training_data[:,-1:]\n",
    "x_train.shape,y_train.shape"
   ]
  },
  {
   "cell_type": "code",
   "execution_count": 4,
   "metadata": {
    "colab": {
     "base_uri": "https://localhost:8080/",
     "height": 34
    },
    "colab_type": "code",
    "id": "qtHXNFlfRv-S",
    "outputId": "b026bac0-91f3-4866-9816-1026538ded76"
   },
   "outputs": [
    {
     "data": {
      "text/plain": [
       "((13800, 1024), (13800, 1))"
      ]
     },
     "execution_count": 4,
     "metadata": {},
     "output_type": "execute_result"
    }
   ],
   "source": [
    "# Sperating input and output testing data from test.csv file\n",
    "testing_data = genfromtxt(base_path+'test.csv', delimiter=',')\n",
    "x_test = testing_data[:,:-1]\n",
    "y_test = testing_data[:,-1:]\n",
    "x_test.shape , y_test.shape"
   ]
  },
  {
   "cell_type": "code",
   "execution_count": 5,
   "metadata": {
    "colab": {},
    "colab_type": "code",
    "id": "dhT_UY7cRwDL"
   },
   "outputs": [],
   "source": [
    "# Normalizing values between 0 and 1\n",
    "x_train /= 255\n",
    "x_test /= 255"
   ]
  },
  {
   "cell_type": "code",
   "execution_count": 6,
   "metadata": {
    "colab": {},
    "colab_type": "code",
    "id": "vrJ6GD1KXL7v"
   },
   "outputs": [],
   "source": [
    "# Reshaping Traing and testing data for feeding into CNN Model\n",
    "x_train = np.reshape(x_train , (x_train.shape[0] , 32 , 32 , 1))\n",
    "x_test = np.reshape(x_test , (x_test.shape[0] , 32 , 32 , 1))"
   ]
  },
  {
   "cell_type": "code",
   "execution_count": 7,
   "metadata": {
    "colab": {
     "base_uri": "https://localhost:8080/",
     "height": 799
    },
    "colab_type": "code",
    "id": "cEmGdlvAeHm9",
    "outputId": "e676026d-942a-416f-affb-7bd153f2c688"
   },
   "outputs": [
    {
     "data": {
      "text/plain": [
       "{0: 'digit_0',\n",
       " 1: 'digit_1',\n",
       " 2: 'digit_2',\n",
       " 3: 'digit_3',\n",
       " 4: 'digit_4',\n",
       " 5: 'digit_5',\n",
       " 6: 'digit_6',\n",
       " 7: 'digit_7',\n",
       " 8: 'digit_8',\n",
       " 9: 'digit_9',\n",
       " 10: 'character_1_ka',\n",
       " 11: 'character_2_kha',\n",
       " 12: 'character_3_ga',\n",
       " 13: 'character_4_gha',\n",
       " 14: 'character_5_kna',\n",
       " 15: 'character_6_cha',\n",
       " 16: 'character_7_chha',\n",
       " 17: 'character_8_ja',\n",
       " 18: 'character_9_jha',\n",
       " 19: 'character_10_yna',\n",
       " 20: 'character_11_taamatar',\n",
       " 21: 'character_12_thaa',\n",
       " 22: 'character_13_daa',\n",
       " 23: 'character_14_dhaa',\n",
       " 24: 'character_15_adna',\n",
       " 25: 'character_16_tabala',\n",
       " 26: 'character_17_tha',\n",
       " 27: 'character_18_da',\n",
       " 28: 'character_19_dha',\n",
       " 29: 'character_20_na',\n",
       " 30: 'character_21_pa',\n",
       " 31: 'character_22_pha',\n",
       " 32: 'character_23_ba',\n",
       " 33: 'character_24_bha',\n",
       " 34: 'character_25_ma',\n",
       " 35: 'character_26_yaw',\n",
       " 36: 'character_27_ra',\n",
       " 37: 'character_28_la',\n",
       " 38: 'character_29_waw',\n",
       " 39: 'character_30_motosaw',\n",
       " 40: 'character_31_petchiryakha',\n",
       " 41: 'character_32_patalosaw',\n",
       " 42: 'character_33_ha',\n",
       " 43: 'character_34_chhya',\n",
       " 44: 'character_35_tra',\n",
       " 45: 'character_36_gya'}"
      ]
     },
     "execution_count": 7,
     "metadata": {},
     "output_type": "execute_result"
    }
   ],
   "source": [
    "# Importing labels created, from labels.npy\n",
    "labels = np.load(base_path + 'labels.npy').item()\n",
    "labels"
   ]
  },
  {
   "cell_type": "code",
   "execution_count": 8,
   "metadata": {},
   "outputs": [],
   "source": [
    "# Defining some parameters\n",
    "batch_size = 64\n",
    "num_classes = 46\n",
    "image_size = 1024 # 32 X 32"
   ]
  },
  {
   "cell_type": "code",
   "execution_count": 9,
   "metadata": {
    "colab": {
     "base_uri": "https://localhost:8080/",
     "height": 34
    },
    "colab_type": "code",
    "id": "7rUoD1kwZrzE",
    "outputId": "33491540-87ab-4b4b-ac39-c9aaabe09326"
   },
   "outputs": [
    {
     "data": {
      "text/plain": [
       "(78200, 46)"
      ]
     },
     "execution_count": 9,
     "metadata": {},
     "output_type": "execute_result"
    }
   ],
   "source": [
    "# Converting a class vector (integers) for training output to binary class matrix\n",
    "y_train = to_categorical(y_train, num_classes)\n",
    "y_train.shape"
   ]
  },
  {
   "cell_type": "code",
   "execution_count": 10,
   "metadata": {
    "colab": {
     "base_uri": "https://localhost:8080/",
     "height": 34
    },
    "colab_type": "code",
    "id": "JtOJ9g1YZqG4",
    "outputId": "07568332-cd05-404e-cffd-022d3f3bf0ef"
   },
   "outputs": [
    {
     "data": {
      "text/plain": [
       "(13800, 46)"
      ]
     },
     "execution_count": 10,
     "metadata": {},
     "output_type": "execute_result"
    }
   ],
   "source": [
    "# Converting a class vector (integers) for testing output to binary class matrix\n",
    "y_test = to_categorical(y_test, num_classes)\n",
    "y_test.shape"
   ]
  },
  {
   "cell_type": "code",
   "execution_count": 11,
   "metadata": {
    "colab": {},
    "colab_type": "code",
    "id": "nGgIviGrUi3w"
   },
   "outputs": [],
   "source": [
    "# Creating Model for our Convolutional Neural Network\n",
    "def createModel(img_dim , dropout):\n",
    "  model = Sequential()\n",
    "  model.add(Conv2D(filters=32, kernel_size=3, strides=1, padding='same', activation='relu',input_shape=[img_dim, img_dim, 1]))\n",
    "  # 28*28*32\n",
    "\n",
    "  model.add(Conv2D(filters=64, kernel_size=3, activation='relu'))\n",
    "  # 28*28*64\n",
    "\n",
    "  model.add(MaxPooling2D(pool_size=2, strides=2, padding='same'))\n",
    "  # 14*14*64\n",
    "\n",
    "  model.add(Conv2D(filters=64, kernel_size=3, activation='relu'))\n",
    "  # 14*14*64\n",
    "\n",
    "  model.add(Conv2D(filters=64, kernel_size=3, activation='relu'))\n",
    "  # 14*14*64\n",
    "\n",
    "  model.add(MaxPooling2D(pool_size=2, strides=2, padding='same'))\n",
    "  # 7*7*64\n",
    "\n",
    "  model.add(Flatten())\n",
    "  model.add(Dense(128, kernel_initializer ='uniform', activation='relu' , input_dim=img_dim*img_dim)) \n",
    "  model.add(Dropout(rate=dropout))\n",
    "  model.add(Dense(64, kernel_initializer ='uniform', activation='relu')) \n",
    "  model.add(Dropout(rate=dropout))\n",
    "  model.add(Dense(num_classes , kernel_initializer='uniform' , activation='softmax'))\n",
    "\n",
    "  return model"
   ]
  },
  {
   "cell_type": "code",
   "execution_count": 12,
   "metadata": {
    "colab": {},
    "colab_type": "code",
    "id": "FgYT0l3Ai-3C"
   },
   "outputs": [
    {
     "name": "stdout",
     "output_type": "stream",
     "text": [
      "WARNING:tensorflow:From /home/vasu7052/PythonEnvs/myenv/lib/python3.5/site-packages/keras/backend/tensorflow_backend.py:1264: calling reduce_prod (from tensorflow.python.ops.math_ops) with keep_dims is deprecated and will be removed in a future version.\n",
      "Instructions for updating:\n",
      "keep_dims is deprecated, use keepdims instead\n"
     ]
    }
   ],
   "source": [
    "# Creating model with Image dimension = 32x32 and dropout of 20%\n",
    "model = createModel(img_dim=32 , dropout=0.2)"
   ]
  },
  {
   "cell_type": "code",
   "execution_count": 13,
   "metadata": {
    "colab": {
     "base_uri": "https://localhost:8080/",
     "height": 544
    },
    "colab_type": "code",
    "id": "afIYxU32XswH",
    "outputId": "e25d27b7-a1ab-4294-e2ad-25693be0fab6"
   },
   "outputs": [
    {
     "name": "stdout",
     "output_type": "stream",
     "text": [
      "_________________________________________________________________\n",
      "Layer (type)                 Output Shape              Param #   \n",
      "=================================================================\n",
      "conv2d_1 (Conv2D)            (None, 32, 32, 32)        320       \n",
      "_________________________________________________________________\n",
      "conv2d_2 (Conv2D)            (None, 30, 30, 64)        18496     \n",
      "_________________________________________________________________\n",
      "max_pooling2d_1 (MaxPooling2 (None, 15, 15, 64)        0         \n",
      "_________________________________________________________________\n",
      "conv2d_3 (Conv2D)            (None, 13, 13, 64)        36928     \n",
      "_________________________________________________________________\n",
      "conv2d_4 (Conv2D)            (None, 11, 11, 64)        36928     \n",
      "_________________________________________________________________\n",
      "max_pooling2d_2 (MaxPooling2 (None, 6, 6, 64)          0         \n",
      "_________________________________________________________________\n",
      "flatten_1 (Flatten)          (None, 2304)              0         \n",
      "_________________________________________________________________\n",
      "dense_1 (Dense)              (None, 128)               295040    \n",
      "_________________________________________________________________\n",
      "dropout_1 (Dropout)          (None, 128)               0         \n",
      "_________________________________________________________________\n",
      "dense_2 (Dense)              (None, 64)                8256      \n",
      "_________________________________________________________________\n",
      "dropout_2 (Dropout)          (None, 64)                0         \n",
      "_________________________________________________________________\n",
      "dense_3 (Dense)              (None, 46)                2990      \n",
      "=================================================================\n",
      "Total params: 398,958\n",
      "Trainable params: 398,958\n",
      "Non-trainable params: 0\n",
      "_________________________________________________________________\n"
     ]
    }
   ],
   "source": [
    "# Getting Model Summary\n",
    "model.summary()"
   ]
  },
  {
   "cell_type": "code",
   "execution_count": 14,
   "metadata": {
    "colab": {},
    "colab_type": "code",
    "id": "8qaTk29tUi6K"
   },
   "outputs": [
    {
     "name": "stdout",
     "output_type": "stream",
     "text": [
      "WARNING:tensorflow:From /home/vasu7052/PythonEnvs/myenv/lib/python3.5/site-packages/keras/backend/tensorflow_backend.py:2885: calling reduce_sum (from tensorflow.python.ops.math_ops) with keep_dims is deprecated and will be removed in a future version.\n",
      "Instructions for updating:\n",
      "keep_dims is deprecated, use keepdims instead\n",
      "WARNING:tensorflow:From /home/vasu7052/PythonEnvs/myenv/lib/python3.5/site-packages/keras/backend/tensorflow_backend.py:1349: calling reduce_mean (from tensorflow.python.ops.math_ops) with keep_dims is deprecated and will be removed in a future version.\n",
      "Instructions for updating:\n",
      "keep_dims is deprecated, use keepdims instead\n"
     ]
    }
   ],
   "source": [
    "# Compiling our created model\n",
    "model.compile(loss=keras.losses.categorical_crossentropy, \\\n",
    "                  optimizer=keras.optimizers.Adadelta(), \\\n",
    "                  metrics=['accuracy'])"
   ]
  },
  {
   "cell_type": "code",
   "execution_count": 15,
   "metadata": {
    "colab": {
     "base_uri": "https://localhost:8080/",
     "height": 884
    },
    "colab_type": "code",
    "id": "GJEfH8SeUi8q",
    "outputId": "1e2fa20c-b5be-4402-bb23-4c4715a38c7c"
   },
   "outputs": [
    {
     "name": "stdout",
     "output_type": "stream",
     "text": [
      "Train on 78200 samples, validate on 13800 samples\n",
      "Epoch 1/25\n",
      "78200/78200 [==============================] - 104s 1ms/step - loss: 1.1982 - acc: 0.6588 - val_loss: 0.2665 - val_acc: 0.9196\n",
      "Epoch 2/25\n",
      "78200/78200 [==============================] - 97s 1ms/step - loss: 0.3494 - acc: 0.8944 - val_loss: 0.1749 - val_acc: 0.9478\n",
      "Epoch 3/25\n",
      "78200/78200 [==============================] - 96s 1ms/step - loss: 0.2391 - acc: 0.9268 - val_loss: 0.1307 - val_acc: 0.9593\n",
      "Epoch 4/25\n",
      "78200/78200 [==============================] - 95s 1ms/step - loss: 0.1834 - acc: 0.9434 - val_loss: 0.1075 - val_acc: 0.9682\n",
      "Epoch 5/25\n",
      "78200/78200 [==============================] - 90s 1ms/step - loss: 0.1467 - acc: 0.9545 - val_loss: 0.0939 - val_acc: 0.9734\n",
      "Epoch 6/25\n",
      "78200/78200 [==============================] - 86s 1ms/step - loss: 0.1236 - acc: 0.9619 - val_loss: 0.0862 - val_acc: 0.9761\n",
      "Epoch 7/25\n",
      "78200/78200 [==============================] - 89s 1ms/step - loss: 0.1067 - acc: 0.9671 - val_loss: 0.0860 - val_acc: 0.9751\n",
      "Epoch 8/25\n",
      "78200/78200 [==============================] - 88s 1ms/step - loss: 0.0917 - acc: 0.9719 - val_loss: 0.0800 - val_acc: 0.9769\n",
      "Epoch 9/25\n",
      "78200/78200 [==============================] - 92s 1ms/step - loss: 0.0821 - acc: 0.9745 - val_loss: 0.0788 - val_acc: 0.9784\n",
      "Epoch 10/25\n",
      "78200/78200 [==============================] - 93s 1ms/step - loss: 0.0722 - acc: 0.9776 - val_loss: 0.0783 - val_acc: 0.9790\n",
      "Epoch 11/25\n",
      "78200/78200 [==============================] - 92s 1ms/step - loss: 0.0657 - acc: 0.9796 - val_loss: 0.0709 - val_acc: 0.9814\n",
      "Epoch 12/25\n",
      "78200/78200 [==============================] - 95s 1ms/step - loss: 0.0604 - acc: 0.9811 - val_loss: 0.0774 - val_acc: 0.9801\n",
      "Epoch 13/25\n",
      "78200/78200 [==============================] - 93s 1ms/step - loss: 0.0561 - acc: 0.9819 - val_loss: 0.0765 - val_acc: 0.9802\n",
      "Epoch 14/25\n",
      "78200/78200 [==============================] - 92s 1ms/step - loss: 0.0523 - acc: 0.9840 - val_loss: 0.0683 - val_acc: 0.9828\n",
      "Epoch 15/25\n",
      "78200/78200 [==============================] - 94s 1ms/step - loss: 0.0474 - acc: 0.9855 - val_loss: 0.0771 - val_acc: 0.9820\n",
      "Epoch 16/25\n",
      "78200/78200 [==============================] - 94s 1ms/step - loss: 0.0479 - acc: 0.9851 - val_loss: 0.0708 - val_acc: 0.9815\n",
      "Epoch 17/25\n",
      "78200/78200 [==============================] - 96s 1ms/step - loss: 0.0435 - acc: 0.9865 - val_loss: 0.0772 - val_acc: 0.9829\n",
      "Epoch 18/25\n",
      "78200/78200 [==============================] - 96s 1ms/step - loss: 0.0412 - acc: 0.9870 - val_loss: 0.0806 - val_acc: 0.9817\n",
      "Epoch 19/25\n",
      "78200/78200 [==============================] - 92s 1ms/step - loss: 0.0406 - acc: 0.9869 - val_loss: 0.0659 - val_acc: 0.9834\n",
      "Epoch 20/25\n",
      "78200/78200 [==============================] - 94s 1ms/step - loss: 0.0398 - acc: 0.9875 - val_loss: 0.0739 - val_acc: 0.9838\n",
      "Epoch 21/25\n",
      "78200/78200 [==============================] - 93s 1ms/step - loss: 0.0388 - acc: 0.9881 - val_loss: 0.0672 - val_acc: 0.9833\n",
      "Epoch 22/25\n",
      "78200/78200 [==============================] - 90s 1ms/step - loss: 0.0380 - acc: 0.9882 - val_loss: 0.0760 - val_acc: 0.9832\n",
      "Epoch 23/25\n",
      "78200/78200 [==============================] - 87s 1ms/step - loss: 0.0365 - acc: 0.9883 - val_loss: 0.0673 - val_acc: 0.9840\n",
      "Epoch 24/25\n",
      "78200/78200 [==============================] - 90s 1ms/step - loss: 0.0358 - acc: 0.9891 - val_loss: 0.0731 - val_acc: 0.9846\n",
      "Epoch 25/25\n",
      "78200/78200 [==============================] - 90s 1ms/step - loss: 0.0364 - acc: 0.9894 - val_loss: 0.0690 - val_acc: 0.9843\n"
     ]
    }
   ],
   "source": [
    "# Now the main part of training , we are also saving the history of training process\n",
    "model_history = model.fit(x_train, y_train,\n",
    "                  batch_size=batch_size, epochs=25,\n",
    "                  validation_data=(x_test, y_test))"
   ]
  },
  {
   "cell_type": "code",
   "execution_count": 16,
   "metadata": {
    "colab": {
     "base_uri": "https://localhost:8080/",
     "height": 34
    },
    "colab_type": "code",
    "id": "fRSuhYJCRwFg",
    "outputId": "204d665c-47ae-4114-c9ef-8cda62b9dad8"
   },
   "outputs": [
    {
     "data": {
      "text/plain": [
       "'Validation Accuracy: 98.43%'"
      ]
     },
     "execution_count": 16,
     "metadata": {},
     "output_type": "execute_result"
    }
   ],
   "source": [
    "# Calculating accuracy on Validation Set\n",
    "scores = model.evaluate(x_test, y_test, verbose=0)\n",
    "\"Validation Accuracy: %.2f%%\" % (scores[1]*100)"
   ]
  },
  {
   "cell_type": "code",
   "execution_count": 21,
   "metadata": {
    "colab": {},
    "colab_type": "code",
    "id": "rarqapvpanWC"
   },
   "outputs": [],
   "source": [
    "# Saving model for later user, for direct importing\n",
    "model.save(base_path + 'character_model.hdf5')"
   ]
  },
  {
   "cell_type": "code",
   "execution_count": 18,
   "metadata": {
    "colab": {
     "base_uri": "https://localhost:8080/",
     "height": 376
    },
    "colab_type": "code",
    "id": "VAm_vviZaBu1",
    "outputId": "645672b3-e52e-4afe-d8b3-d1507009c890"
   },
   "outputs": [
    {
     "data": {
      "image/png": "[encoded data removed]",
      "text/plain": [
       "<Figure size 432x288 with 1 Axes>"
      ]
     },
     "metadata": {
      "needs_background": "light"
     },
     "output_type": "display_data"
    }
   ],
   "source": [
    "# Displaying accuracy graph with respect to epochs\n",
    "fig1, ax_acc = plt.subplots()\n",
    "plt.plot(model_history.history['acc'])\n",
    "plt.plot(model_history.history['val_acc'])\n",
    "plt.xlabel('Epoch')\n",
    "plt.ylabel('Accuracy')\n",
    "plt.title('Model - Accuracy')\n",
    "plt.legend(['Training', 'Validation'], loc='lower right')\n",
    "plt.show()"
   ]
  },
  {
   "cell_type": "code",
   "execution_count": 19,
   "metadata": {
    "colab": {
     "base_uri": "https://localhost:8080/",
     "height": 376
    },
    "colab_type": "code",
    "id": "POA2nYhoaEAX",
    "outputId": "a73a8a21-a011-4f20-9583-09c5b9152dd5"
   },
   "outputs": [
    {
     "data": {
      "image/png": "[encoded data removed]",
      "text/plain": [
       "<Figure size 432x288 with 1 Axes>"
      ]
     },
     "metadata": {
      "needs_background": "light"
     },
     "output_type": "display_data"
    }
   ],
   "source": [
    "# Displaying Loss graph with respect to epochs\n",
    "fig2, ax_loss = plt.subplots()\n",
    "plt.xlabel('Epoch')\n",
    "plt.ylabel('Loss')\n",
    "plt.title('Model- Loss')\n",
    "plt.legend(['Training', 'Validation'], loc='upper right')\n",
    "plt.plot(model_history.history['loss'])\n",
    "plt.plot(model_history.history['val_loss'])\n",
    "plt.show()"
   ]
  },
  {
   "cell_type": "code",
   "execution_count": 20,
   "metadata": {
    "colab": {
     "base_uri": "https://localhost:8080/",
     "height": 3657
    },
    "colab_type": "code",
    "id": "UgfQobGWblas",
    "outputId": "40a51b64-c17c-4785-9729-50e52f279faa"
   },
   "outputs": [
    {
     "name": "stdout",
     "output_type": "stream",
     "text": [
      "Actual Output :  digit_7 \n",
      "Predicted output:  digit_7\n"
     ]
    },
    {
     "data": {
      "image/png": "[encoded data removed]",
      "text/plain": [
       "<Figure size 432x288 with 1 Axes>"
      ]
     },
     "metadata": {
      "needs_background": "light"
     },
     "output_type": "display_data"
    },
    {
     "name": "stdout",
     "output_type": "stream",
     "text": [
      "Actual Output :  character_34_chhya \n",
      "Predicted output:  character_34_chhya\n"
     ]
    },
    {
     "data": {
      "image/png": "[encoded data removed]",
      "text/plain": [
       "<Figure size 432x288 with 1 Axes>"
      ]
     },
     "metadata": {
      "needs_background": "light"
     },
     "output_type": "display_data"
    },
    {
     "name": "stdout",
     "output_type": "stream",
     "text": [
      "Actual Output :  character_7_chha \n",
      "Predicted output:  character_7_chha\n"
     ]
    },
    {
     "data": {
      "image/png": "[encoded data removed]",
      "text/plain": [
       "<Figure size 432x288 with 1 Axes>"
      ]
     },
     "metadata": {
      "needs_background": "light"
     },
     "output_type": "display_data"
    },
    {
     "name": "stdout",
     "output_type": "stream",
     "text": [
      "Actual Output :  character_5_kna \n",
      "Predicted output:  character_5_kna\n"
     ]
    },
    {
     "data": {
      "image/png": "[encoded data removed]",
      "text/plain": [
       "<Figure size 432x288 with 1 Axes>"
      ]
     },
     "metadata": {
      "needs_background": "light"
     },
     "output_type": "display_data"
    },
    {
     "name": "stdout",
     "output_type": "stream",
     "text": [
      "Actual Output :  character_33_ha \n",
      "Predicted output:  character_33_ha\n"
     ]
    },
    {
     "data": {
      "image/png": "[encoded data removed]",
      "text/plain": [
       "<Figure size 432x288 with 1 Axes>"
      ]
     },
     "metadata": {
      "needs_background": "light"
     },
     "output_type": "display_data"
    },
    {
     "name": "stdout",
     "output_type": "stream",
     "text": [
      "Actual Output :  character_17_tha \n",
      "Predicted output:  character_17_tha\n"
     ]
    },
    {
     "data": {
      "image/png": "[encoded data removed]",
      "text/plain": [
       "<Figure size 432x288 with 1 Axes>"
      ]
     },
     "metadata": {
      "needs_background": "light"
     },
     "output_type": "display_data"
    },
    {
     "name": "stdout",
     "output_type": "stream",
     "text": [
      "Actual Output :  character_23_ba \n",
      "Predicted output:  character_23_ba\n"
     ]
    },
    {
     "data": {
      "image/png": "[encoded data removed]",
      "text/plain": [
       "<Figure size 432x288 with 1 Axes>"
      ]
     },
     "metadata": {
      "needs_background": "light"
     },
     "output_type": "display_data"
    },
    {
     "name": "stdout",
     "output_type": "stream",
     "text": [
      "Actual Output :  character_11_taamatar \n",
      "Predicted output:  character_11_taamatar\n"
     ]
    },
    {
     "data": {
      "image/png": "[encoded data removed]",
      "text/plain": [
       "<Figure size 432x288 with 1 Axes>"
      ]
     },
     "metadata": {
      "needs_background": "light"
     },
     "output_type": "display_data"
    },
    {
     "name": "stdout",
     "output_type": "stream",
     "text": [
      "Actual Output :  character_34_chhya \n",
      "Predicted output:  character_34_chhya\n"
     ]
    },
    {
     "data": {
      "image/png": "[encoded data removed]",
      "text/plain": [
       "<Figure size 432x288 with 1 Axes>"
      ]
     },
     "metadata": {
      "needs_background": "light"
     },
     "output_type": "display_data"
    },
    {
     "name": "stdout",
     "output_type": "stream",
     "text": [
      "Actual Output :  character_25_ma \n",
      "Predicted output:  character_25_ma\n"
     ]
    },
    {
     "data": {
      "image/png": "[encoded data removed]",
      "text/plain": [
       "<Figure size 432x288 with 1 Axes>"
      ]
     },
     "metadata": {
      "needs_background": "light"
     },
     "output_type": "display_data"
    }
   ],
   "source": [
    "# Now testing on 10 random images taken from validation dataset\n",
    "for i in range(10):\n",
    "  rnd = np.random.randint(len(x_test))\n",
    "  test_img = x_test[rnd].reshape((1,32,32,1))\n",
    "  predict = model.predict(test_img)\n",
    "  actual = labels[np.argmax(y_test[rnd])]\n",
    "  predicted_text = labels[np.argmax(predict[0])]\n",
    "  print('Actual Output : ' , actual , '\\nPredicted output: ' , predicted_text)\n",
    "  data = x_test[rnd].reshape((32,32))\n",
    "  plt.imshow(data)\n",
    "  plt.gray()\n",
    "  plt.show()"
   ]
  },
  {
   "cell_type": "code",
   "execution_count": null,
   "metadata": {
    "colab": {},
    "colab_type": "code",
    "id": "Sp61L7E5ioJq"
   },
   "outputs": [],
   "source": []
  }
 ],
 "metadata": {
  "accelerator": "GPU",
  "colab": {
   "collapsed_sections": [],
   "name": "Gramener.ipynb",
   "provenance": [],
   "version": "0.3.2"
  },
  "kernelspec": {
   "display_name": "Python 3",
   "language": "python",
   "name": "python3"
  },
  "language_info": {
   "codemirror_mode": {
    "name": "ipython",
    "version": 3
   },
   "file_extension": ".py",
   "mimetype": "text/x-python",
   "name": "python",
   "nbconvert_exporter": "python",
   "pygments_lexer": "ipython3",
   "version": "3.5.2"
  }
 },
 "nbformat": 4,
 "nbformat_minor": 1
}
