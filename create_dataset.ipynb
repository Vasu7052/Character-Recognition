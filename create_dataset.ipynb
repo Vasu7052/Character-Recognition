{
 "cells": [
  {
   "cell_type": "code",
   "execution_count": 62,
   "metadata": {},
   "outputs": [],
   "source": [
    "# Importing Some Standard Libraries\n",
    "import pandas as pd\n",
    "import os\n",
    "from PIL import Image\n",
    "import numpy as np\n",
    "from numpy import genfromtxt"
   ]
  },
  {
   "cell_type": "code",
   "execution_count": 42,
   "metadata": {},
   "outputs": [
    {
     "name": "stdout",
     "output_type": "stream",
     "text": [
      "character_23_ba\n",
      "character_14_dhaa\n",
      "character_36_gya\n",
      "character_35_tra\n",
      "character_24_bha\n",
      "digit_1\n",
      "character_29_waw\n",
      "character_5_kna\n",
      "character_21_pa\n",
      "character_4_gha\n",
      "character_16_tabala\n",
      "digit_5\n",
      "character_30_motosaw\n",
      "character_10_yna\n",
      "character_1_ka\n",
      "digit_9\n",
      "character_13_daa\n",
      "character_3_ga\n",
      "character_22_pha\n",
      "digit_0\n",
      "character_2_kha\n",
      "character_25_ma\n",
      "character_27_ra\n",
      "character_32_patalosaw\n",
      "digit_7\n",
      "digit_6\n",
      "digit_4\n",
      "digit_3\n",
      "character_7_chha\n",
      "character_34_chhya\n",
      "digit_8\n",
      "character_17_tha\n",
      "character_9_jha\n",
      "character_15_adna\n",
      "character_8_ja\n",
      "character_28_la\n",
      "character_6_cha\n",
      "digit_2\n",
      "character_18_da\n",
      "character_31_petchiryakha\n",
      "character_33_ha\n",
      "character_12_thaa\n",
      "character_26_yaw\n",
      "character_20_na\n",
      "character_19_dha\n",
      "character_11_taamatar\n"
     ]
    }
   ],
   "source": [
    "# For converting set of multiple training images into single csv file for using in Colab\n",
    "dirs = os.listdir('./Dataset/Train')\n",
    "x = np.zeros((1,1024))\n",
    "y = np.zeros((1,1))\n",
    "for dir in dirs:\n",
    "    print(dir)\n",
    "    num = -1\n",
    "    if dir.startswith('character'):\n",
    "        num = int(dir[dir.index('_')+1:dir.rfind('_')])\n",
    "        num = num + 9\n",
    "    elif dir.startswith('digit'):\n",
    "        num = int(dir[6:])\n",
    "    temp_y = np.array([num]).reshape((1,1))\n",
    "    images = os.listdir('./Dataset/Train/'+dir)\n",
    "    for image in images:\n",
    "        img = Image.open('./Dataset/Train/'+dir+'/'+image)\n",
    "        temp_x = np.hstack(np.array(img)).reshape((1,1024))\n",
    "        x = np.concatenate((x, temp_x), axis=0)\n",
    "        y = np.concatenate((y, temp_y), axis=0)"
   ]
  },
  {
   "cell_type": "code",
   "execution_count": 43,
   "metadata": {},
   "outputs": [
    {
     "data": {
      "text/plain": [
       "array([[0., 0., 0., ..., 0., 0., 0.],\n",
       "       [0., 0., 0., ..., 0., 0., 0.],\n",
       "       [0., 0., 0., ..., 0., 0., 0.],\n",
       "       ...,\n",
       "       [0., 0., 0., ..., 0., 0., 0.],\n",
       "       [0., 0., 0., ..., 0., 0., 0.],\n",
       "       [0., 0., 0., ..., 0., 0., 0.]])"
      ]
     },
     "execution_count": 43,
     "metadata": {},
     "output_type": "execute_result"
    }
   ],
   "source": [
    "x"
   ]
  },
  {
   "cell_type": "code",
   "execution_count": 44,
   "metadata": {},
   "outputs": [
    {
     "name": "stdout",
     "output_type": "stream",
     "text": [
      "character_23_ba\n",
      "character_14_dhaa\n",
      "character_36_gya\n",
      "character_35_tra\n",
      "character_24_bha\n",
      "digit_1\n",
      "character_29_waw\n",
      "character_5_kna\n",
      "character_21_pa\n",
      "character_4_gha\n",
      "character_16_tabala\n",
      "digit_5\n",
      "character_30_motosaw\n",
      "character_10_yna\n",
      "character_1_ka\n",
      "digit_9\n",
      "character_13_daa\n",
      "character_3_ga\n",
      "character_22_pha\n",
      "digit_0\n",
      "character_2_kha\n",
      "character_25_ma\n",
      "character_27_ra\n",
      "character_32_patalosaw\n",
      "digit_7\n",
      "digit_6\n",
      "digit_4\n",
      "digit_3\n",
      "character_7_chha\n",
      "character_34_chhya\n",
      "digit_8\n",
      "character_17_tha\n",
      "character_9_jha\n",
      "character_15_adna\n",
      "character_8_ja\n",
      "character_28_la\n",
      "character_6_cha\n",
      "digit_2\n",
      "character_18_da\n",
      "character_31_petchiryakha\n",
      "character_33_ha\n",
      "character_12_thaa\n",
      "character_26_yaw\n",
      "character_20_na\n",
      "character_19_dha\n",
      "character_11_taamatar\n"
     ]
    }
   ],
   "source": [
    "# For converting set of multiple testing images into single csv file for using in Colab\n",
    "dirs = os.listdir('./Dataset/Test')\n",
    "x_test = np.zeros((1,1024))\n",
    "y_test = np.zeros((1,1))\n",
    "for dir in dirs:\n",
    "    print(dir)\n",
    "    num = -1\n",
    "    if dir.startswith('character'):\n",
    "        num = int(dir[dir.index('_')+1:dir.rfind('_')])\n",
    "        num = num + 9\n",
    "    elif dir.startswith('digit'):\n",
    "        num = int(dir[6:])\n",
    "    temp_y = np.array([num]).reshape((1,1))\n",
    "    images = os.listdir('./Dataset/Test/'+dir)\n",
    "    for image in images:\n",
    "        img = Image.open('./Dataset/Test/'+dir+'/'+image)\n",
    "        temp_x = np.hstack(np.array(img)).reshape((1,1024))\n",
    "        x_test = np.concatenate((x_test, temp_x), axis=0)\n",
    "        y_test = np.concatenate((y_test, temp_y), axis=0)"
   ]
  },
  {
   "cell_type": "code",
   "execution_count": 58,
   "metadata": {},
   "outputs": [],
   "source": [
    "# Combining input and output testing data into one CSV\n",
    "test = np.concatenate((x_test, y_test), axis=1)\n",
    "test = np.delete(test, (0), axis=0)"
   ]
  },
  {
   "cell_type": "code",
   "execution_count": 61,
   "metadata": {},
   "outputs": [],
   "source": [
    "# Saving csv file , this file will be used in google Colab\n",
    "np.savetxt('test.csv', test, delimiter=',', fmt='%s')"
   ]
  },
  {
   "cell_type": "code",
   "execution_count": 54,
   "metadata": {},
   "outputs": [],
   "source": [
    "# Combining input and output training data into one CSV\n",
    "train = np.concatenate((x, y), axis=1)\n",
    "train = np.delete(train, (0), axis=0)"
   ]
  },
  {
   "cell_type": "code",
   "execution_count": 55,
   "metadata": {},
   "outputs": [
    {
     "data": {
      "text/plain": [
       "(78200, 1025)"
      ]
     },
     "execution_count": 55,
     "metadata": {},
     "output_type": "execute_result"
    }
   ],
   "source": [
    "train.shape"
   ]
  },
  {
   "cell_type": "code",
   "execution_count": 57,
   "metadata": {},
   "outputs": [],
   "source": [
    "np.savetxt('train.csv', train, delimiter=',', fmt='%s')"
   ]
  },
  {
   "cell_type": "code",
   "execution_count": 63,
   "metadata": {},
   "outputs": [],
   "source": [
    "x_final = genfromtxt('train.csv', delimiter=',')"
   ]
  },
  {
   "cell_type": "code",
   "execution_count": 64,
   "metadata": {},
   "outputs": [
    {
     "data": {
      "text/plain": [
       "(78200, 1025)"
      ]
     },
     "execution_count": 64,
     "metadata": {},
     "output_type": "execute_result"
    }
   ],
   "source": [
    "x_final.shape"
   ]
  },
  {
   "cell_type": "code",
   "execution_count": 70,
   "metadata": {},
   "outputs": [],
   "source": [
    "# For creating a dictionary of labels\n",
    "dirs = os.listdir('./Dataset/Train')\n",
    "labels = {}\n",
    "for dir in dirs:\n",
    "    num = -1\n",
    "    if dir.startswith('character'):\n",
    "        num = int(dir[dir.index('_')+1:dir.rfind('_')])\n",
    "        num = num + 9\n",
    "    elif dir.startswith('digit'):\n",
    "        num = int(dir[6:])\n",
    "    labels[num] = dir"
   ]
  },
  {
   "cell_type": "code",
   "execution_count": 71,
   "metadata": {},
   "outputs": [
    {
     "data": {
      "text/plain": [
       "{0: 'digit_0',\n",
       " 1: 'digit_1',\n",
       " 2: 'digit_2',\n",
       " 3: 'digit_3',\n",
       " 4: 'digit_4',\n",
       " 5: 'digit_5',\n",
       " 6: 'digit_6',\n",
       " 7: 'digit_7',\n",
       " 8: 'digit_8',\n",
       " 9: 'digit_9',\n",
       " 10: 'character_1_ka',\n",
       " 11: 'character_2_kha',\n",
       " 12: 'character_3_ga',\n",
       " 13: 'character_4_gha',\n",
       " 14: 'character_5_kna',\n",
       " 15: 'character_6_cha',\n",
       " 16: 'character_7_chha',\n",
       " 17: 'character_8_ja',\n",
       " 18: 'character_9_jha',\n",
       " 19: 'character_10_yna',\n",
       " 20: 'character_11_taamatar',\n",
       " 21: 'character_12_thaa',\n",
       " 22: 'character_13_daa',\n",
       " 23: 'character_14_dhaa',\n",
       " 24: 'character_15_adna',\n",
       " 25: 'character_16_tabala',\n",
       " 26: 'character_17_tha',\n",
       " 27: 'character_18_da',\n",
       " 28: 'character_19_dha',\n",
       " 29: 'character_20_na',\n",
       " 30: 'character_21_pa',\n",
       " 31: 'character_22_pha',\n",
       " 32: 'character_23_ba',\n",
       " 33: 'character_24_bha',\n",
       " 34: 'character_25_ma',\n",
       " 35: 'character_26_yaw',\n",
       " 36: 'character_27_ra',\n",
       " 37: 'character_28_la',\n",
       " 38: 'character_29_waw',\n",
       " 39: 'character_30_motosaw',\n",
       " 40: 'character_31_petchiryakha',\n",
       " 41: 'character_32_patalosaw',\n",
       " 42: 'character_33_ha',\n",
       " 43: 'character_34_chhya',\n",
       " 44: 'character_35_tra',\n",
       " 45: 'character_36_gya'}"
      ]
     },
     "execution_count": 71,
     "metadata": {},
     "output_type": "execute_result"
    }
   ],
   "source": [
    "labels"
   ]
  },
  {
   "cell_type": "code",
   "execution_count": 81,
   "metadata": {},
   "outputs": [],
   "source": [
    "# Saving Labels in npy format for direct importing\n",
    "import json\n",
    "np.save(\"labels.npy\", labels)"
   ]
  },
  {
   "cell_type": "code",
   "execution_count": null,
   "metadata": {},
   "outputs": [],
   "source": []
  }
 ],
 "metadata": {
  "kernelspec": {
   "display_name": "Python 3",
   "language": "python",
   "name": "python3"
  },
  "language_info": {
   "codemirror_mode": {
    "name": "ipython",
    "version": 3
   },
   "file_extension": ".py",
   "mimetype": "text/x-python",
   "name": "python",
   "nbconvert_exporter": "python",
   "pygments_lexer": "ipython3",
   "version": "3.5.2"
  }
 },
 "nbformat": 4,
 "nbformat_minor": 2
}
